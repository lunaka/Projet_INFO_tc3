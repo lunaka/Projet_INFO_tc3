{
 "cells": [
  {
   "cell_type": "markdown",
   "metadata": {},
   "source": [
    "# <center>Informatique tc3 (Projet Web) - TD1</center>\n",
    "\n",
    "## <center style=\"color: #66d\">Projet 3 - Editeur de scène.</center>"
   ]
  },
  {
   "cell_type": "markdown",
   "metadata": {},
   "source": [
    "### 1. Cahier des charges\n",
    "\n",
    "<div>\n",
    "<br>\n",
    "Le module <tt>raytracer</tt> fourni pour les projets ne comporte que très peu d'objets composés (Cube, Cylindre, Cône tronqué). L'objectif de ce projet est de :\n",
    "<ul style=\"margin-top:0\">\n",
    " <li style=\"margin-top:0\">créer de nouveaux objets composés comme des polyèdres (pyramide, maison, ...), ou des arbres (sphère + cylindre, cône + cylindre),\n",
    " <li style=\"margin-top:0\">concevoir une interface permettant de créer des scènes comportant ce type d'objets. \n",
    " </ul>\n",
    " </div>\n",
    "<p>\n",
    "<div>\n",
    "L'interface permettra :\n",
    "<ul style=\"margin-top:0\">\n",
    " <li style=\"margin-top:0\">d'ajouter ou de retirer des objets de la scène,\n",
    " <li style=\"margin-top:0\">de définir la position, et l'orientation des objets,\n",
    " <li style=\"margin-top:0\">la taille de l'image générée.\n",
    "</ul>\n",
    "</div>\n",
    " \n",
    "Les images seront générées à la volée ou sur demande. Elles devront pouvoir être consultées sans être regénérées si elles existent déjà pour un choix de paramètres donné _(notion de cache serveur)_.\n",
    "\n",
    "Pour des raisons de simplicité, les couleurs des objets pourront être fixées (i.e. non modifiables). De même, il ne sera pas forcément nécessaire de pouvoir modifier la position de la caméra, et les sources d'éclairage pourront être prédéfinies."
   ]
  },
  {
   "cell_type": "markdown",
   "metadata": {},
   "source": [
    "### 2. Exemple : Pyramide\n",
    "\n",
    "La classe _Polygon2_ permet de créer un polygone à partir des coordonnées 3D de ses sommets. &Agrave; partir de là, il est assez facile de concevoir une pyramide générique, avec un sommet et une base composée d'un polygone quelconque :"
   ]
  },
  {
   "cell_type": "code",
   "execution_count": 1,
   "metadata": {
    "collapsed": true
   },
   "outputs": [],
   "source": [
    "from raytracer import *\n",
    "\n",
    "class Pyramid(ComposedArtifact):\n",
    "\n",
    "    # base est un Polygone\n",
    "    # S est un vec3 correspondant au sommet\n",
    "    def __init__(self, base, S, *args, **kwargs):\n",
    "\n",
    "        # La pyramide est composée de n+1 facettes\n",
    "        npoints = len(base.vertices)\n",
    "        ComposedArtifact.__init__(self, npoints+1, *args, **kwargs)\n",
    "\n",
    "        # La première facette de la pyramide est sa base\n",
    "        self[0] = base\n",
    "        \n",
    "        # Si la base est un Polygon2 on dispose déjà des coordonnées 3D\n",
    "        # des sommets, sinon on les calcule\n",
    "        vertices3D = base.vertices3D if hasattr(base,'vertices3D') else \\\n",
    "          [base.P + base.U * v[0] + base.V * v[1] for v in base.vertices]\n",
    "\n",
    "        # Chacune des facettes s'appuie sur le sommet et un segment de la base\n",
    "        for n in range(npoints):\n",
    "            P1 = S\n",
    "            P2 = (vertices3D[n-1] if n > 0 else vertices3D[npoints-1])\n",
    "            P3 = vertices3D[n]\n",
    "            self[n+1] = Polygon2((P1,P2,P3), -base.ns, **self.kwargs(n))\n",
    "\n",
    "        self.vertices3D = [*vertices3D, S]\n",
    "        self.base = base\n",
    "        self.S = S\n",
    "\n",
    "    @classmethod\n",
    "    def keys(cls):\n",
    "        return ['base', 'S'] + Artifact.keys()\n",
    "\n",
    "    def getattr(self,k):\n",
    "        return getattr(self,k) if k in self.keys() else ComposedArtifact.getattr(self,k)"
   ]
  },
  {
   "cell_type": "code",
   "execution_count": 2,
   "metadata": {},
   "outputs": [
    {
     "name": "stdout",
     "output_type": "stream",
     "text": [
      "pyramid took 0.304s\n"
     ]
    }
   ],
   "source": [
    "scene = Scene('pyramid', 0, 1)\n",
    "scene.append(LightSource(vec3(-1., 2, 0), 1))\n",
    "\n",
    "S = vec3(0,0.5,0.5)\n",
    "vertices = [vec3(-0.5,0,0), vec3(0.5,0,0), vec3(0.5,0,1), vec3(-0.5,0,1)]\n",
    "base = Polygon2(vertices, 1, diffuse=rgb(0.5,0.5,0), mirror=0, specular=0)\n",
    "\n",
    "scene.append(Plane(vec3(0,-0.1,0), vec3(0,1,0)))\n",
    "scene.append(Pyramid(base, S, diffuse=rgb(0.9,0.5,0.1), mirror=0, specular=0))\n",
    "\n",
    "scene.initialize(E=vec3(0,2,-10)).trace().save_image()\n",
    "pass"
   ]
  },
  {
   "cell_type": "markdown",
   "metadata": {},
   "source": [
    "<img src=\"pyramid.png\" width=\"300\">\n",
    "<center><a href=\"pyramid.png\">pyramid.png</a></center>"
   ]
  },
  {
   "cell_type": "code",
   "execution_count": 3,
   "metadata": {},
   "outputs": [
    {
     "name": "stdout",
     "output_type": "stream",
     "text": [
      "cylinder took 0.425s\n"
     ]
    }
   ],
   "source": [
    "scene = Scene('cylinder', 0, 1)\n",
    "scene.append(LightSource(vec3(-1., 2, -3), 1))\n",
    "\n",
    "P = vec3(0,-0.05,0) # Coordonnées entre -1 et 1 (x = horizontal, y = verticale, z = sens de la page)\n",
    "V = vec3(0,1,0) # axe sur lequel il sera projété\n",
    "r = 0.1\n",
    "h = 0.2\n",
    "\n",
    "scene.append(Cylinder(P, V, r, h, diffuse=rgb(0.9,0.5,0.1), mirror=0, specular=0))\n",
    "\n",
    "S = vec3(0,0.5,0.5) # Coordonnées entre -1 et 1 (x = horizontal, y = verticale, z = sens de la page)\n",
    "vertices = [vec3(-0.3,0.35,-0.3), vec3(0.3,0.35,-0.3), vec3(0.3,0.35,0.3), vec3(-0.3,0.35,0.3)]\n",
    "base = Polygon2(vertices, 1, diffuse=rgb(0.5,0.5,0), mirror=0, specular=0)\n",
    "\n",
    "scene.append(Pyramid(base, S, diffuse=rgb(0.9,0.5,0.1), mirror=0, specular=0))\n",
    "\n",
    "center = vec3(0,0.2,0) # Coordonnées entre -1 et 1 (x = horizontal, y = verticale, z = sens de la page)\n",
    "radius = 0.2\n",
    "\n",
    "scene.append(Plane(vec3(0,-0.1,0), vec3(0,1,0)))\n",
    "scene.append(Sphere(center, radius, diffuse=rgb(0.9,0.5,0.1), mirror=0, specular=0))\n",
    "\n",
    "scene.initialize(E=vec3(0,2,-10)).trace().save_image()\n",
    "pass"
   ]
  },
  {
   "cell_type": "markdown",
   "metadata": {},
   "source": [
    "<img src=\"cylinder.png\" width=\"300\">\n",
    "<center><a href=\"pyramid.png\">cylinder.png</a></center>"
   ]
  },
  {
   "cell_type": "code",
   "execution_count": 10,
   "metadata": {},
   "outputs": [
    {
     "name": "stdout",
     "output_type": "stream",
     "text": [
      "Arbre took 0.171s\n"
     ]
    }
   ],
   "source": [
    "scene = Scene('Arbre', 0, 1)\n",
    "scene.append(LightSource(vec3(-1., 2, -3), 1))\n",
    "\n",
    "P = vec3(0,-0.05,0) # Coordonnées entre -1 et 1 (x = horizontal, y = verticale, z = sens de la page)\n",
    "V = vec3(0,1,0) # axe sur lequel il sera projété\n",
    "r = 0.1\n",
    "h = 0.4\n",
    "\n",
    "scene.append(Cylinder(P, V, r, h, diffuse=rgb(0.9,0.5,0.1), mirror=0, specular=0))\n",
    "\n",
    "\n",
    "center = vec3(0,0.4,0) # Coordonnées entre -1 et 1 (x = horizontal, y = verticale, z = sens de la page)\n",
    "radius = 0.2\n",
    "\n",
    "scene.append(Plane(vec3(0,-0.1,0), vec3(0,1,0)))\n",
    "scene.append(Sphere(center, radius, diffuse=rgb(0.1,0.9,0.1), mirror=0, specular=0))\n",
    "\n",
    "scene.initialize(E=vec3(0,2,-10)).trace().save_image()\n",
    "pass"
   ]
  },
  {
   "cell_type": "markdown",
   "metadata": {},
   "source": [
    "<img src=\"Arbre.png\" width=\"300\">\n",
    "<center><a href=\"Arbre.png\">Arbre.png</a></center>"
   ]
  },
  {
   "cell_type": "code",
   "execution_count": null,
   "metadata": {
    "collapsed": true
   },
   "outputs": [],
   "source": [
    "scene = Scene('Arbre', 0, 1)\n",
    "scene.append(LightSource(vec3(-1., 2, -3), 1))\n",
    "\n",
    "P = vec3(0,-0.05,0) # Coordonnées entre -1 et 1 (x = horizontal, y = verticale, z = sens de la page)\n",
    "V = vec3(0,1,0) # axe sur lequel il sera projété\n",
    "r = 0.1\n",
    "h = 0.4\n",
    "\n",
    "scene.append(Cylinder(P, V, r, h, diffuse=rgb(0.9,0.5,0.1), mirror=0, specular=0))\n",
    "\n",
    "\n",
    "center = vec3(0,0.4,0) # Coordonnées entre -1 et 1 (x = horizontal, y = verticale, z = sens de la page)\n",
    "radius = 0.2\n",
    "\n",
    "scene.append(Plane(vec3(0,-0.1,0), vec3(0,1,0)))\n",
    "scene.append(Sphere(center, radius, diffuse=rgb(0.1,0.9,0.1), mirror=0, specular=0))\n",
    "\n",
    "scene.initialize(E=vec3(0,2,-10)).trace().save_image()\n",
    "pass"
   ]
  }
 ],
 "metadata": {
  "kernelspec": {
   "display_name": "Python 3",
   "language": "python",
   "name": "python3"
  },
  "language_info": {
   "codemirror_mode": {
    "name": "ipython",
    "version": 3
   },
   "file_extension": ".py",
   "mimetype": "text/x-python",
   "name": "python",
   "nbconvert_exporter": "python",
   "pygments_lexer": "ipython3",
   "version": "3.6.3"
  }
 },
 "nbformat": 4,
 "nbformat_minor": 2
}
